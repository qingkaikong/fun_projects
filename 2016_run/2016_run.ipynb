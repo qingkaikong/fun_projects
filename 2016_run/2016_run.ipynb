{
 "cells": [
  {
   "cell_type": "markdown",
   "metadata": {},
   "source": [
    "To explore the running I did on 2016, you can find the info [here](http://www.coastaltrailruns.com/)"
   ]
  },
  {
   "cell_type": "code",
   "execution_count": 9,
   "metadata": {
    "collapsed": true
   },
   "outputs": [],
   "source": [
    "import glob\n",
    "import matplotlib.pyplot as plt\n",
    "import pandas as pd\n",
    "from matplotlib.ticker import ScalarFormatter, FormatStrFormatter\n",
    "import seaborn as sns\n",
    "sns.set_context('poster')\n",
    "sns.set_style('white')"
   ]
  },
  {
   "cell_type": "code",
   "execution_count": 18,
   "metadata": {
    "collapsed": false
   },
   "outputs": [],
   "source": [
    "all_files = glob.glob(\"./*.csv\")     # advisable to use os.path.join as this makes concatenation OS independent\n",
    "df = pd.concat((pd.read_csv(f, header = 0) for f in all_files)) "
   ]
  },
  {
   "cell_type": "code",
   "execution_count": 3,
   "metadata": {
    "collapsed": false
   },
   "outputs": [
    {
     "data": {
      "text/html": [
       "<div style=\"max-height:1000px;max-width:1500px;overflow:auto;\">\n",
       "<table border=\"1\" class=\"dataframe\">\n",
       "  <thead>\n",
       "    <tr style=\"text-align: right;\">\n",
       "      <th></th>\n",
       "      <th>Place</th>\n",
       "      <th>Name</th>\n",
       "      <th>City</th>\n",
       "      <th>Bib No</th>\n",
       "      <th>Age</th>\n",
       "      <th>Age Group</th>\n",
       "      <th>Time</th>\n",
       "      <th>Pace</th>\n",
       "      <th>Type</th>\n",
       "      <th>Year</th>\n",
       "    </tr>\n",
       "  </thead>\n",
       "  <tbody>\n",
       "    <tr>\n",
       "      <th>113</th>\n",
       "      <td> 14</td>\n",
       "      <td> Roland Burgmann</td>\n",
       "      <td> Berkeley CA</td>\n",
       "      <td>  479</td>\n",
       "      <td> 47</td>\n",
       "      <td> 6 M 40-49</td>\n",
       "      <td> 2:15:18</td>\n",
       "      <td> 10:24/M</td>\n",
       "      <td> Half Marathon</td>\n",
       "      <td> 2011</td>\n",
       "    </tr>\n",
       "    <tr>\n",
       "      <th>105</th>\n",
       "      <td> 32</td>\n",
       "      <td> Roland Burgmann</td>\n",
       "      <td> Berkeley CA</td>\n",
       "      <td> 1554</td>\n",
       "      <td> 51</td>\n",
       "      <td> 2 M 50-54</td>\n",
       "      <td> 2:14:46</td>\n",
       "      <td> 10:08/M</td>\n",
       "      <td> Half Marathon</td>\n",
       "      <td> 2015</td>\n",
       "    </tr>\n",
       "    <tr>\n",
       "      <th>113</th>\n",
       "      <td> 28</td>\n",
       "      <td> Roland Burgmann</td>\n",
       "      <td> Berkeley CA</td>\n",
       "      <td> 4750</td>\n",
       "      <td> 52</td>\n",
       "      <td> 1 M 50-54</td>\n",
       "      <td> 2:22:07</td>\n",
       "      <td> 10:41/M</td>\n",
       "      <td> Half Marathon</td>\n",
       "      <td> 2016</td>\n",
       "    </tr>\n",
       "  </tbody>\n",
       "</table>\n",
       "</div>"
      ],
      "text/plain": [
       "     Place             Name         City  Bib No  Age  Age Group     Time  \\\n",
       "113     14  Roland Burgmann  Berkeley CA     479   47  6 M 40-49  2:15:18   \n",
       "105     32  Roland Burgmann  Berkeley CA    1554   51  2 M 50-54  2:14:46   \n",
       "113     28  Roland Burgmann  Berkeley CA    4750   52  1 M 50-54  2:22:07   \n",
       "\n",
       "        Pace           Type  Year  \n",
       "113  10:24/M  Half Marathon  2011  \n",
       "105  10:08/M  Half Marathon  2015  \n",
       "113  10:41/M  Half Marathon  2016  "
      ]
     },
     "execution_count": 3,
     "metadata": {},
     "output_type": "execute_result"
    }
   ],
   "source": [
    "# find Roland\n",
    "df[df['Name'] == 'Roland Burgmann']"
   ]
  },
  {
   "cell_type": "code",
   "execution_count": 13,
   "metadata": {
    "collapsed": false
   },
   "outputs": [],
   "source": [
    "ax = plt.subplot(111)\n",
    "df.groupby('Year').count()['Age'].plot()\n",
    "ax.xaxis.set_major_formatter(FormatStrFormatter('%.0f'))\n",
    "plt.xlabel('Year')\n",
    "plt.ylabel('Number of people running')\n",
    "plt.title('Participants each year')\n",
    "plt.show()"
   ]
  },
  {
   "cell_type": "code",
   "execution_count": 14,
   "metadata": {
    "collapsed": false
   },
   "outputs": [],
   "source": [
    "df.Age.hist()\n",
    "plt.xlabel('Age')\n",
    "plt.ylabel('Number of people')\n",
    "plt.title('Age distribution (2011 - 2016)')\n",
    "plt.show()"
   ]
  },
  {
   "cell_type": "code",
   "execution_count": 22,
   "metadata": {
    "collapsed": false
   },
   "outputs": [],
   "source": [
    "# get only people from half marathon\n",
    "df_half = df[df['Type'] == 'Half Marathon']"
   ]
  },
  {
   "cell_type": "markdown",
   "metadata": {},
   "source": [
    "# Try to grab data directly"
   ]
  },
  {
   "cell_type": "code",
   "execution_count": 1,
   "metadata": {
    "collapsed": true
   },
   "outputs": [],
   "source": [
    "import urllib\n",
    "import BeautifulSoup\n",
    "import numpy as np"
   ]
  },
  {
   "cell_type": "code",
   "execution_count": 3,
   "metadata": {
    "collapsed": false
   },
   "outputs": [],
   "source": [
    "response = urllib.urlopen('http://www.coastaltrailruns.com/cin_spr_results_16.htm')\n",
    "html = response.read()"
   ]
  },
  {
   "cell_type": "code",
   "execution_count": 18,
   "metadata": {
    "collapsed": false
   },
   "outputs": [
    {
     "name": "stdout",
     "output_type": "stream",
     "text": [
      "[]\n"
     ]
    }
   ],
   "source": [
    "from BeautifulSoup import BeautifulSoup\n",
    "\n",
    "html = 'http://www.coastaltrailruns.com/cin_spr_results_16.htm'\n",
    "\n",
    "soup = BeautifulSoup(html)\n",
    "tag = soup.findAll('td', limit=2)\n",
    "#tag_O = soup.findAll('td')\n",
    "print tag\n",
    "\n",
    "#for i in range(len(tag)):\n",
    "#    print tag[i].string\n",
    "#print tag_O"
   ]
  },
  {
   "cell_type": "code",
   "execution_count": null,
   "metadata": {
    "collapsed": false
   },
   "outputs": [],
   "source": [
    "from bs4 import BeautifulSoup\n",
    "\n",
    "response = urllib.urlopen('http://www.coastaltrailruns.com/cin_spr_results_16.htm')\n",
    "html = response.read()\n",
    "\n",
    "soup = BeautifulSoup(html)\n",
    "table = soup.find(\"table\")\n",
    "\n",
    "# The first tr contains the field names.\n",
    "headings = [th.get_text() for th in table.find(\"tr\").find_all(\"td\")]\n",
    "\n",
    "datasets = []\n",
    "for row in table.find_all(\"tr\")[1:]:\n",
    "    dataset = zip(headings, (td.get_text() for td in row.find_all(\"td\")))\n",
    "    datasets.append(dataset)\n",
    "\n",
    "print datasets"
   ]
  },
  {
   "cell_type": "code",
   "execution_count": null,
   "metadata": {
    "collapsed": false
   },
   "outputs": [],
   "source": [
    "table.find_all(\"tr\")"
   ]
  },
  {
   "cell_type": "code",
   "execution_count": null,
   "metadata": {
    "collapsed": false
   },
   "outputs": [],
   "source": [
    "table.find_all(\"td\")"
   ]
  },
  {
   "cell_type": "code",
   "execution_count": null,
   "metadata": {
    "collapsed": true
   },
   "outputs": [],
   "source": []
  }
 ],
 "metadata": {
  "kernelspec": {
   "display_name": "Python 2",
   "language": "python",
   "name": "python2"
  },
  "language_info": {
   "codemirror_mode": {
    "name": "ipython",
    "version": 2
   },
   "file_extension": ".py",
   "mimetype": "text/x-python",
   "name": "python",
   "nbconvert_exporter": "python",
   "pygments_lexer": "ipython2",
   "version": "2.7.10"
  }
 },
 "nbformat": 4,
 "nbformat_minor": 0
}
